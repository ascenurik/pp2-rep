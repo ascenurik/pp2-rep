{
 "cells": [
  {
   "cell_type": "code",
   "execution_count": 1,
   "metadata": {},
   "outputs": [],
   "source": [
    "#1\n",
    "import re\n",
    "txt = input(\"Enter a string: \")\n",
    "x = re.search(r'a(b*)', txt)\n",
    "if x:\n",
    "    print(\"Match found:\", x.group())\n",
    "else:\n",
    "    print(\"No match\")"
   ]
  },
  {
   "cell_type": "code",
   "execution_count": null,
   "metadata": {},
   "outputs": [],
   "source": [
    "#2\n",
    "import re\n",
    "txt = input(\"Enter a string: \")\n",
    "x = re.search(r'a(b){2,3}', txt)\n",
    "if x:\n",
    "    print(\"Match found:\", x.group())\n",
    "else:\n",
    "    print(\"No match\")"
   ]
  },
  {
   "cell_type": "code",
   "execution_count": null,
   "metadata": {},
   "outputs": [],
   "source": [
    "#3\n",
    "import re\n",
    "txt = input(\"Enter a string: \")\n",
    "x = re.findall(r'[a-z]+_[a-z]+', txt)\n",
    "if len(x) > 0:\n",
    "    print(\"Matches found:\")\n",
    "    for match in x:\n",
    "        print(match)\n",
    "else:\n",
    "    print(\"No match\")"
   ]
  },
  {
   "cell_type": "code",
   "execution_count": null,
   "metadata": {},
   "outputs": [],
   "source": [
    "#4\n",
    "import re\n",
    "txt = input(\"Enter a string: \")\n",
    "x = re.findall(r'[A-Z][a-z]+', txt)\n",
    "if len(x) > 0:\n",
    "    print(\"Matches found:\")\n",
    "    for match in x:\n",
    "        print(match)\n",
    "else:\n",
    "    print(\"No match\")"
   ]
  },
  {
   "cell_type": "code",
   "execution_count": null,
   "metadata": {},
   "outputs": [],
   "source": [
    "#5\n",
    "import re\n",
    "txt = input(\"Enter a string: \")\n",
    "x = re.search(r'a.*b$', txt)\n",
    "if x:\n",
    "    print(\"Match found:\", x.group())\n",
    "else:\n",
    "    print(\"No match\")"
   ]
  },
  {
   "cell_type": "code",
   "execution_count": null,
   "metadata": {},
   "outputs": [],
   "source": [
    "#6\n",
    "import re\n",
    "txt = input(\"Enter a string: \")\n",
    "new_txt = re.sub(r'[ ,.]', \":\", txt)\n",
    "print(\"New string:\", new_txt)"
   ]
  },
  {
   "cell_type": "code",
   "execution_count": null,
   "metadata": {},
   "outputs": [],
   "source": [
    "#7\n",
    "import re\n",
    "snake_case = input(\"Enter a snake case: \")\n",
    "camel_case = re.sub(r'_([a-z])', lambda match: match.group(1).upper(), snake_case)\n",
    "print(\"Camel case:\", camel_case)"
   ]
  },
  {
   "cell_type": "code",
   "execution_count": null,
   "metadata": {},
   "outputs": [],
   "source": [
    "#8\n",
    "import re\n",
    "txt = input(\"Enter a string: \")\n",
    "split_txt = re.findall(r'[A-Z][a-z]*', txt)\n",
    "print(\"Split text:\", split_txt)"
   ]
  },
  {
   "cell_type": "code",
   "execution_count": null,
   "metadata": {},
   "outputs": [],
   "source": [
    "#9\n",
    "import re\n",
    "txt = input(\"Enter a string: \")\n",
    "new_txt = re.sub(r'([a-z])([A-Z])', r'\\1 \\2', txt)\n",
    "print(\"New string: \", new_txt)"
   ]
  },
  {
   "cell_type": "code",
   "execution_count": null,
   "metadata": {},
   "outputs": [],
   "source": [
    "#10\n",
    "import re\n",
    "txt = input(\"Enter a camel case: \")\n",
    "new_txt = re.sub('([A-Z])', r'_\\1', txt).lower().lstrip('_')\n",
    "print(\"Snake case: \", new_txt)"
   ]
  },
  {
   "cell_type": "code",
   "execution_count": null,
   "metadata": {},
   "outputs": [],
   "source": []
  }
 ],
 "metadata": {
  "kernelspec": {
   "display_name": "Python 3",
   "language": "python",
   "name": "python3"
  },
  "language_info": {
   "codemirror_mode": {
    "name": "ipython",
    "version": 3
   },
   "file_extension": ".py",
   "mimetype": "text/x-python",
   "name": "python",
   "nbconvert_exporter": "python",
   "pygments_lexer": "ipython3",
   "version": "3.11.0"
  },
  "orig_nbformat": 4,
  "vscode": {
   "interpreter": {
    "hash": "4a2be22dd6e53e58d2cbb58ff8710118d9f0e7063880c207852c87823229d20c"
   }
  }
 },
 "nbformat": 4,
 "nbformat_minor": 2
}
