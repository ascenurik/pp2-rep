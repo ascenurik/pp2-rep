{
 "cells": [
  {
   "cell_type": "code",
   "execution_count": 1,
   "metadata": {},
   "outputs": [
    {
     "name": "stdout",
     "output_type": "stream",
     "text": [
      "1\n"
     ]
    }
   ],
   "source": [
    "import math\n",
    "a = list(map(int, input().split()))\n",
    "b = math.prod(a)\n",
    "print(b)"
   ]
  },
  {
   "cell_type": "code",
   "execution_count": 2,
   "metadata": {},
   "outputs": [
    {
     "name": "stdout",
     "output_type": "stream",
     "text": [
      "0\n",
      "0\n"
     ]
    }
   ],
   "source": [
    "s = input()\n",
    "lower = sum(map(str.islower, s))\n",
    "upper = sum(map(str.isupper, s))\n",
    "print(upper)\n",
    "print(lower)"
   ]
  },
  {
   "cell_type": "code",
   "execution_count": 24,
   "metadata": {},
   "outputs": [
    {
     "name": "stdout",
     "output_type": "stream",
     "text": [
      "True\n"
     ]
    }
   ],
   "source": [
    "def is_palindrome(string):\n",
    "    return string == string[::-1]\n",
    "print(is_palindrome(input()))"
   ]
  },
  {
   "cell_type": "code",
   "execution_count": 30,
   "metadata": {},
   "outputs": [
    {
     "name": "stdout",
     "output_type": "stream",
     "text": [
      "Square root of 5 after 5 miliseconds is 2.23606797749979\n"
     ]
    }
   ],
   "source": [
    "import time\n",
    "num = int(input(\"Enter a number: \"))\n",
    "milliseconds = int(input(\"Enter milliseconds: \"))\n",
    "time.sleep(milliseconds/1000)\n",
    "print(f\"Square root of {num} after {milliseconds} miliseconds is {num ** 0.5}\")"
   ]
  },
  {
   "cell_type": "code",
   "execution_count": 29,
   "metadata": {},
   "outputs": [
    {
     "name": "stdout",
     "output_type": "stream",
     "text": [
      "True\n"
     ]
    }
   ],
   "source": [
    "a = tuple(map(int, input().split()))\n",
    "print(all(a))"
   ]
  },
  {
   "cell_type": "code",
   "execution_count": 12,
   "metadata": {},
   "outputs": [
    {
     "name": "stdout",
     "output_type": "stream",
     "text": [
      "Files:\n",
      "[]\n",
      "Directory:\n",
      "['3', '32', '4lab', '5lab', '6lab', 'физ']\n",
      "All directories, files:\n",
      "['3', '32', '4lab', '5lab', '6lab', 'физ']\n"
     ]
    }
   ],
   "source": [
    "import os\n",
    "path = \"C:\\\\Users\\\\nurik\\\\OneDrive\\\\Desktop\\\\python\\\\\"\n",
    "files = [f for f in os.listdir(path) if os.path.isfile(os.path.join(path, f))]\n",
    "dirs = [d for d in os.listdir(path) if os.path.isdir(os.path.join(path, d))]\n",
    "both = [x for x in os.listdir(path)]\n",
    "print(\"Files:\")\n",
    "print(files)\n",
    "print(\"Directory:\")\n",
    "print(dirs)\n",
    "print(\"All directories, files:\")\n",
    "print(both)"
   ]
  },
  {
   "cell_type": "code",
   "execution_count": 10,
   "metadata": {},
   "outputs": [
    {
     "name": "stdout",
     "output_type": "stream",
     "text": [
      "Exist: True\n",
      "Readable: True\n",
      "Writable: True\n",
      "Executable: True\n"
     ]
    }
   ],
   "source": [
    "import os\n",
    "print('Exist:', os.access('C:\\\\Users\\\\nurik\\\\OneDrive\\\\Desktop\\\\python\\\\', os.F_OK))\n",
    "print('Readable:', os.access('C:\\\\Users\\\\nurik\\\\OneDrive\\\\Desktop\\\\python\\\\', os.R_OK))\n",
    "print('Writable:', os.access('C:\\\\Users\\\\nurik\\\\OneDrive\\\\Desktop\\\\python\\\\', os.W_OK))\n",
    "print('Executable:', os.access('C:\\\\Users\\\\nurik\\\\OneDrive\\\\Desktop\\\\python\\\\', os.X_OK))"
   ]
  },
  {
   "cell_type": "code",
   "execution_count": 15,
   "metadata": {},
   "outputs": [
    {
     "name": "stdout",
     "output_type": "stream",
     "text": [
      "Path exists\n",
      "Filename: \n",
      "Directory: C:\\Users\\nurik\\OneDrive\\Desktop\\python\\32\n"
     ]
    }
   ],
   "source": [
    "import os\n",
    "path = \"C:\\\\Users\\\\nurik\\\\OneDrive\\\\Desktop\\\\python\\\\32\\\\\"\n",
    "if os.path.exists(path):\n",
    "    print(\"Path exists\")\n",
    "    filename = os.path.basename(path)\n",
    "    directory = os.path.dirname(path)\n",
    "    print(\"Filename:\", filename)\n",
    "    print(\"Directory:\", directory)\n",
    "else:\n",
    "    print(\"Path does not exist.\")"
   ]
  },
  {
   "cell_type": "code",
   "execution_count": 20,
   "metadata": {},
   "outputs": [
    {
     "name": "stdout",
     "output_type": "stream",
     "text": [
      "0\n"
     ]
    }
   ],
   "source": [
    "import os\n",
    "with open(\"test.txt\", \"r\") as f:\n",
    "    print(sum(1 for _ in f))"
   ]
  },
  {
   "cell_type": "code",
   "execution_count": null,
   "metadata": {},
   "outputs": [],
   "source": [
    "import os\n",
    "lista = [123, 23, 53, 23]\n",
    "with open('text.txt', 'w') as f:\n",
    "  for i in lista:\n",
    "    f.write('%s\\n' % i)\n",
    "content = open('text.txt')\n",
    "print(content.read())"
   ]
  },
  {
   "cell_type": "code",
   "execution_count": 19,
   "metadata": {},
   "outputs": [],
   "source": [
    "import os\n",
    "list1 = ['A','B','C','D','E','F','G','H','I','J','K','L','M','N','O','P','Q','R','S','T','U','V','W','X','Y','Z']\n",
    "for i in list1:\n",
    "    files = f\"{i}.txt\"\n",
    "    with open(files, \"w\") as file:\n",
    "        file.write('')"
   ]
  },
  {
   "cell_type": "code",
   "execution_count": null,
   "metadata": {},
   "outputs": [],
   "source": [
    "import os\n",
    "input_file_path = \"test.txt\"\n",
    "output_file_path = \"text.txt\"\n",
    "with open(input_file_path, \"r\") as input_file:\n",
    "    file_contents = input_file.read()\n",
    "\n",
    "with open(output_file_path, \"w\") as output_file:\n",
    "    output_file.write(file_contents)"
   ]
  },
  {
   "cell_type": "code",
   "execution_count": null,
   "metadata": {},
   "outputs": [],
   "source": [
    "import os\n",
    "file_path = \"A.txt\"\n",
    "if os.path.exists(file_path):\n",
    "    if os.access(file_path, os.W_OK):\n",
    "        os.remove(file_path)\n",
    "        print(f\"{file_path} deleted successfully.\")\n",
    "    else:\n",
    "        print(f\"You don't have permission to delete {file_path}.\")\n",
    "else:\n",
    "    print(f\"{file_path} does not exist.\")"
   ]
  },
  {
   "cell_type": "code",
   "execution_count": null,
   "metadata": {},
   "outputs": [],
   "source": []
  }
 ],
 "metadata": {
  "kernelspec": {
   "display_name": "Python 3",
   "language": "python",
   "name": "python3"
  },
  "language_info": {
   "codemirror_mode": {
    "name": "ipython",
    "version": 3
   },
   "file_extension": ".py",
   "mimetype": "text/x-python",
   "name": "python",
   "nbconvert_exporter": "python",
   "pygments_lexer": "ipython3",
   "version": "3.11.0"
  },
  "orig_nbformat": 4
 },
 "nbformat": 4,
 "nbformat_minor": 2
}
